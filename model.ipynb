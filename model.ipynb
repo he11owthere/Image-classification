{
 "cells": [
  {
   "cell_type": "code",
   "execution_count": 26,
   "metadata": {},
   "outputs": [],
   "source": [
    "import tensorflow as tf\n",
    "from tensorflow import keras\n",
    "import matplotlib.pyplot as plt\n",
    "import numpy as np"
   ]
  },
  {
   "cell_type": "code",
   "execution_count": 27,
   "metadata": {},
   "outputs": [
    {
     "data": {
      "text/plain": [
       "[PhysicalDevice(name='/physical_device:CPU:0', device_type='CPU')]"
      ]
     },
     "execution_count": 27,
     "metadata": {},
     "output_type": "execute_result"
    }
   ],
   "source": [
    "tf.config.experimental.list_physical_devices()"
   ]
  },
  {
   "cell_type": "code",
   "execution_count": 28,
   "metadata": {},
   "outputs": [
    {
     "data": {
      "text/plain": [
       "False"
      ]
     },
     "execution_count": 28,
     "metadata": {},
     "output_type": "execute_result"
    }
   ],
   "source": [
    "tf.test.is_built_with_cuda()"
   ]
  },
  {
   "cell_type": "code",
   "execution_count": 29,
   "metadata": {},
   "outputs": [],
   "source": [
    "(X_train, y_train), (X_test, y_test) = tf.keras.datasets.cifar10.load_data()"
   ]
  },
  {
   "cell_type": "code",
   "execution_count": 30,
   "metadata": {},
   "outputs": [
    {
     "data": {
      "text/plain": [
       "(50000, 32, 32, 3)"
      ]
     },
     "execution_count": 30,
     "metadata": {},
     "output_type": "execute_result"
    }
   ],
   "source": [
    "X_train.shape"
   ]
  },
  {
   "cell_type": "code",
   "execution_count": 31,
   "metadata": {},
   "outputs": [
    {
     "data": {
      "text/plain": [
       "array([[[ 59,  62,  63],\n",
       "        [ 43,  46,  45],\n",
       "        [ 50,  48,  43],\n",
       "        ...,\n",
       "        [158, 132, 108],\n",
       "        [152, 125, 102],\n",
       "        [148, 124, 103]],\n",
       "\n",
       "       [[ 16,  20,  20],\n",
       "        [  0,   0,   0],\n",
       "        [ 18,   8,   0],\n",
       "        ...,\n",
       "        [123,  88,  55],\n",
       "        [119,  83,  50],\n",
       "        [122,  87,  57]],\n",
       "\n",
       "       [[ 25,  24,  21],\n",
       "        [ 16,   7,   0],\n",
       "        [ 49,  27,   8],\n",
       "        ...,\n",
       "        [118,  84,  50],\n",
       "        [120,  84,  50],\n",
       "        [109,  73,  42]],\n",
       "\n",
       "       ...,\n",
       "\n",
       "       [[208, 170,  96],\n",
       "        [201, 153,  34],\n",
       "        [198, 161,  26],\n",
       "        ...,\n",
       "        [160, 133,  70],\n",
       "        [ 56,  31,   7],\n",
       "        [ 53,  34,  20]],\n",
       "\n",
       "       [[180, 139,  96],\n",
       "        [173, 123,  42],\n",
       "        [186, 144,  30],\n",
       "        ...,\n",
       "        [184, 148,  94],\n",
       "        [ 97,  62,  34],\n",
       "        [ 83,  53,  34]],\n",
       "\n",
       "       [[177, 144, 116],\n",
       "        [168, 129,  94],\n",
       "        [179, 142,  87],\n",
       "        ...,\n",
       "        [216, 184, 140],\n",
       "        [151, 118,  84],\n",
       "        [123,  92,  72]]], dtype=uint8)"
      ]
     },
     "execution_count": 31,
     "metadata": {},
     "output_type": "execute_result"
    }
   ],
   "source": [
    "X_train[0]"
   ]
  },
  {
   "cell_type": "code",
   "execution_count": 32,
   "metadata": {},
   "outputs": [
    {
     "data": {
      "text/plain": [
       "(50000, 1)"
      ]
     },
     "execution_count": 32,
     "metadata": {},
     "output_type": "execute_result"
    }
   ],
   "source": [
    "y_train.shape"
   ]
  },
  {
   "cell_type": "code",
   "execution_count": 33,
   "metadata": {},
   "outputs": [
    {
     "data": {
      "text/plain": [
       "array([[6],\n",
       "       [9],\n",
       "       [9],\n",
       "       [4],\n",
       "       [1]], dtype=uint8)"
      ]
     },
     "execution_count": 33,
     "metadata": {},
     "output_type": "execute_result"
    }
   ],
   "source": [
    "y_train[0:5]"
   ]
  },
  {
   "cell_type": "code",
   "execution_count": 46,
   "metadata": {},
   "outputs": [],
   "source": [
    "def plot_sample(index):\n",
    "    plt.figure(figsize=(10,1))\n",
    "    plt.imshow(X_train[index])"
   ]
  },
  {
   "cell_type": "code",
   "execution_count": 47,
   "metadata": {},
   "outputs": [
    {
     "data": {
      "image/png": "[encoded data removed]",
      "text/plain": [
       "<Figure size 1000x100 with 1 Axes>"
      ]
     },
     "metadata": {},
     "output_type": "display_data"
    }
   ],
   "source": [
    "plot_sample(0)"
   ]
  },
  {
   "cell_type": "code",
   "execution_count": 51,
   "metadata": {},
   "outputs": [
    {
     "data": {
      "text/plain": [
       "'frog'"
      ]
     },
     "execution_count": 51,
     "metadata": {},
     "output_type": "execute_result"
    }
   ],
   "source": [
    "classes = [\"airplane\", \"automobile\", \"bird\", \"cat\", \"deer\", \"dog\", \"frog\", \"horse\", \"ship\", \"truck\"]\n",
    "classes[y_train[0][0]]"
   ]
  },
  {
   "cell_type": "code",
   "execution_count": 53,
   "metadata": {},
   "outputs": [
    {
     "data": {
      "image/png": "[encoded data removed]",
      "text/plain": [
       "<Figure size 1000x100 with 1 Axes>"
      ]
     },
     "metadata": {},
     "output_type": "display_data"
    }
   ],
   "source": [
    "plot_sample(1)"
   ]
  },
  {
   "cell_type": "code",
   "execution_count": 64,
   "metadata": {},
   "outputs": [
    {
     "data": {
      "text/plain": [
       "'truck'"
      ]
     },
     "execution_count": 64,
     "metadata": {},
     "output_type": "execute_result"
    }
   ],
   "source": [
    "classes[y_train[1][0]]"
   ]
  },
  {
   "cell_type": "code",
   "execution_count": 67,
   "metadata": {},
   "outputs": [
    {
     "data": {
      "text/plain": [
       "(50000, 32, 32, 3)"
      ]
     },
     "execution_count": 67,
     "metadata": {},
     "output_type": "execute_result"
    }
   ],
   "source": [
    "X_train_scaled = X_train / 255\n",
    "X_test_scaled = X_test / 255\n",
    "\n",
    "X_train_scaled.shape"
   ]
  },
  {
   "cell_type": "code",
   "execution_count": 68,
   "metadata": {},
   "outputs": [
    {
     "data": {
      "text/plain": [
       "array([[0., 0., 0., 0., 0., 0., 1., 0., 0., 0.],\n",
       "       [0., 0., 0., 0., 0., 0., 0., 0., 0., 1.],\n",
       "       [0., 0., 0., 0., 0., 0., 0., 0., 0., 1.],\n",
       "       [0., 0., 0., 0., 1., 0., 0., 0., 0., 0.],\n",
       "       [0., 1., 0., 0., 0., 0., 0., 0., 0., 0.]], dtype=float32)"
      ]
     },
     "execution_count": 68,
     "metadata": {},
     "output_type": "execute_result"
    }
   ],
   "source": [
    "y_train_categorical = keras.utils.to_categorical(\n",
    "    y_train, num_classes=10, dtype='float32'\n",
    ")\n",
    "y_train_categorical[:5]"
   ]
  },
  {
   "cell_type": "code",
   "execution_count": 69,
   "metadata": {},
   "outputs": [
    {
     "data": {
      "text/plain": [
       "array([[0., 0., 0., 1., 0., 0., 0., 0., 0., 0.],\n",
       "       [0., 0., 0., 0., 0., 0., 0., 0., 1., 0.],\n",
       "       [0., 0., 0., 0., 0., 0., 0., 0., 1., 0.],\n",
       "       [1., 0., 0., 0., 0., 0., 0., 0., 0., 0.],\n",
       "       [0., 0., 0., 0., 0., 0., 1., 0., 0., 0.]], dtype=float32)"
      ]
     },
     "execution_count": 69,
     "metadata": {},
     "output_type": "execute_result"
    }
   ],
   "source": [
    "y_test_categorical = keras.utils.to_categorical(\n",
    "    y_test, num_classes=10, dtype='float32'\n",
    ")\n",
    "y_test_categorical[:5]"
   ]
  },
  {
   "cell_type": "code",
   "execution_count": 72,
   "metadata": {},
   "outputs": [
    {
     "name": "stdout",
     "output_type": "stream",
     "text": [
      "Epoch 1/50\n",
      "1563/1563 [==============================] - 82s 52ms/step - loss: 1.8130 - accuracy: 0.3546\n",
      "Epoch 2/50\n",
      "1563/1563 [==============================] - 63s 40ms/step - loss: 1.6217 - accuracy: 0.4267\n",
      "Epoch 3/50\n",
      "1563/1563 [==============================] - 57s 37ms/step - loss: 1.5395 - accuracy: 0.4586\n",
      "Epoch 4/50\n",
      "1563/1563 [==============================] - 55s 35ms/step - loss: 1.4822 - accuracy: 0.4799\n",
      "Epoch 5/50\n",
      "1563/1563 [==============================] - 58s 37ms/step - loss: 1.4319 - accuracy: 0.4974\n",
      "Epoch 6/50\n",
      "1563/1563 [==============================] - 56s 36ms/step - loss: 1.3896 - accuracy: 0.5112\n",
      "Epoch 7/50\n",
      "1563/1563 [==============================] - 56s 36ms/step - loss: 1.3502 - accuracy: 0.5273\n",
      "Epoch 8/50\n",
      "1563/1563 [==============================] - 57s 37ms/step - loss: 1.3160 - accuracy: 0.5367\n",
      "Epoch 9/50\n",
      "1563/1563 [==============================] - 57s 36ms/step - loss: 1.2822 - accuracy: 0.5520\n",
      "Epoch 10/50\n",
      "1563/1563 [==============================] - 56s 36ms/step - loss: 1.2510 - accuracy: 0.5617\n",
      "Epoch 11/50\n",
      "1563/1563 [==============================] - 56s 36ms/step - loss: 1.2229 - accuracy: 0.5727\n",
      "Epoch 12/50\n",
      "1563/1563 [==============================] - 56s 36ms/step - loss: 1.1940 - accuracy: 0.5823\n",
      "Epoch 13/50\n",
      "1563/1563 [==============================] - 57s 37ms/step - loss: 1.1655 - accuracy: 0.5924\n",
      "Epoch 14/50\n",
      "1563/1563 [==============================] - 62s 40ms/step - loss: 1.1386 - accuracy: 0.6032\n",
      "Epoch 15/50\n",
      "1563/1563 [==============================] - 64s 41ms/step - loss: 1.1121 - accuracy: 0.6128\n",
      "Epoch 16/50\n",
      "1563/1563 [==============================] - 56s 36ms/step - loss: 1.0866 - accuracy: 0.6218\n",
      "Epoch 17/50\n",
      "1563/1563 [==============================] - 55s 35ms/step - loss: 1.0616 - accuracy: 0.6325\n",
      "Epoch 18/50\n",
      "1563/1563 [==============================] - 56s 36ms/step - loss: 1.0339 - accuracy: 0.6400\n",
      "Epoch 19/50\n",
      "1563/1563 [==============================] - 65s 41ms/step - loss: 1.0089 - accuracy: 0.6504\n",
      "Epoch 20/50\n",
      "1563/1563 [==============================] - 70s 45ms/step - loss: 0.9830 - accuracy: 0.6602\n",
      "Epoch 21/50\n",
      "1563/1563 [==============================] - 69s 44ms/step - loss: 0.9586 - accuracy: 0.6684\n",
      "Epoch 22/50\n",
      "1563/1563 [==============================] - 69s 44ms/step - loss: 0.9351 - accuracy: 0.6753\n",
      "Epoch 23/50\n",
      "1563/1563 [==============================] - 69s 44ms/step - loss: 0.9075 - accuracy: 0.6875\n",
      "Epoch 24/50\n",
      "1563/1563 [==============================] - 69s 44ms/step - loss: 0.8809 - accuracy: 0.6938\n",
      "Epoch 25/50\n",
      "1563/1563 [==============================] - 69s 44ms/step - loss: 0.8568 - accuracy: 0.7044\n",
      "Epoch 26/50\n",
      "1563/1563 [==============================] - 70s 45ms/step - loss: 0.8305 - accuracy: 0.7135\n",
      "Epoch 27/50\n",
      "1563/1563 [==============================] - 69s 44ms/step - loss: 0.8039 - accuracy: 0.7238\n",
      "Epoch 28/50\n",
      "1563/1563 [==============================] - 69s 44ms/step - loss: 0.7794 - accuracy: 0.7335\n",
      "Epoch 29/50\n",
      "1563/1563 [==============================] - 68s 44ms/step - loss: 0.7567 - accuracy: 0.7403\n",
      "Epoch 30/50\n",
      "1563/1563 [==============================] - 68s 44ms/step - loss: 0.7312 - accuracy: 0.7519\n",
      "Epoch 31/50\n",
      "1563/1563 [==============================] - 72s 46ms/step - loss: 0.7057 - accuracy: 0.7600\n",
      "Epoch 32/50\n",
      "1563/1563 [==============================] - 69s 44ms/step - loss: 0.6841 - accuracy: 0.7666\n",
      "Epoch 33/50\n",
      "1563/1563 [==============================] - 58s 37ms/step - loss: 0.6571 - accuracy: 0.7781\n",
      "Epoch 34/50\n",
      "1563/1563 [==============================] - 57s 37ms/step - loss: 0.6350 - accuracy: 0.7848\n",
      "Epoch 35/50\n",
      "1563/1563 [==============================] - 57s 36ms/step - loss: 0.6125 - accuracy: 0.7949\n",
      "Epoch 36/50\n",
      "1563/1563 [==============================] - 56s 36ms/step - loss: 0.5834 - accuracy: 0.8059\n",
      "Epoch 37/50\n",
      "1563/1563 [==============================] - 55s 35ms/step - loss: 0.5600 - accuracy: 0.8151\n",
      "Epoch 38/50\n",
      "1563/1563 [==============================] - 55s 36ms/step - loss: 0.5382 - accuracy: 0.8223\n",
      "Epoch 39/50\n",
      "1563/1563 [==============================] - 57s 36ms/step - loss: 0.5163 - accuracy: 0.8301\n",
      "Epoch 40/50\n",
      "1563/1563 [==============================] - 54s 34ms/step - loss: 0.4927 - accuracy: 0.8397\n",
      "Epoch 41/50\n",
      "1563/1563 [==============================] - 55s 35ms/step - loss: 0.4745 - accuracy: 0.8447\n",
      "Epoch 42/50\n",
      "1563/1563 [==============================] - 53s 34ms/step - loss: 0.4480 - accuracy: 0.8540\n",
      "Epoch 43/50\n",
      "1563/1563 [==============================] - 54s 34ms/step - loss: 0.4267 - accuracy: 0.8642\n",
      "Epoch 44/50\n",
      "1563/1563 [==============================] - 61s 39ms/step - loss: 0.4085 - accuracy: 0.8687\n",
      "Epoch 45/50\n",
      "1563/1563 [==============================] - 65s 41ms/step - loss: 0.3882 - accuracy: 0.8785\n",
      "Epoch 46/50\n",
      "1563/1563 [==============================] - 57s 37ms/step - loss: 0.3703 - accuracy: 0.8837\n",
      "Epoch 47/50\n",
      "1563/1563 [==============================] - 59s 38ms/step - loss: 0.3532 - accuracy: 0.8901\n",
      "Epoch 48/50\n",
      "1563/1563 [==============================] - 58s 37ms/step - loss: 0.3331 - accuracy: 0.8973\n",
      "Epoch 49/50\n",
      "1563/1563 [==============================] - 59s 38ms/step - loss: 0.3138 - accuracy: 0.9041\n",
      "Epoch 50/50\n",
      "1563/1563 [==============================] - 65s 41ms/step - loss: 0.2954 - accuracy: 0.9121\n"
     ]
    },
    {
     "data": {
      "text/plain": [
       "<keras.src.callbacks.History at 0x220654e7ed0>"
      ]
     },
     "execution_count": 72,
     "metadata": {},
     "output_type": "execute_result"
    }
   ],
   "source": [
    "model = keras.Sequential([\n",
    "    keras.layers.Flatten(input_shape=(32,32,3)),\n",
    "    keras.layers.Dense(3000, activation='relu'),\n",
    "    keras.layers.Dense(1000, activation='relu'),\n",
    "    keras.layers.Dense(10, activation='sigmoid')\n",
    "])\n",
    "\n",
    "model.compile(optimizer='SGD',\n",
    "              loss='categorical_crossentropy', #because of one hot encoding, else it would be sparse_categorical_crossentropy\n",
    "              metrics=['accuracy'])\n",
    "\n",
    "model.fit(X_train_scaled, y_train_categorical, epochs=50)"
   ]
  },
  {
   "cell_type": "code",
   "execution_count": 84,
   "metadata": {},
   "outputs": [
    {
     "name": "stdout",
     "output_type": "stream",
     "text": [
      "313/313 [==============================] - 2s 7ms/step\n"
     ]
    },
    {
     "data": {
      "text/plain": [
       "'frog'"
      ]
     },
     "execution_count": 84,
     "metadata": {},
     "output_type": "execute_result"
    }
   ],
   "source": [
    "classes[np.argmax(model.predict(X_test_scaled)[7])]"
   ]
  },
  {
   "cell_type": "code",
   "execution_count": 85,
   "metadata": {},
   "outputs": [
    {
     "data": {
      "text/plain": [
       "'frog'"
      ]
     },
     "execution_count": 85,
     "metadata": {},
     "output_type": "execute_result"
    }
   ],
   "source": [
    "classes[y_test[7][0]]"
   ]
  }
 ],
 "metadata": {
  "kernelspec": {
   "display_name": "Python 3",
   "language": "python",
   "name": "python3"
  },
  "language_info": {
   "codemirror_mode": {
    "name": "ipython",
    "version": 3
   },
   "file_extension": ".py",
   "mimetype": "text/x-python",
   "name": "python",
   "nbconvert_exporter": "python",
   "pygments_lexer": "ipython3",
   "version": "3.11.2"
  },
  "orig_nbformat": 4
 },
 "nbformat": 4,
 "nbformat_minor": 2
}
